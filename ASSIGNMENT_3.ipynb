{
 "cells": [
  {
   "cell_type": "markdown",
   "id": "13232b5e-4d85-491c-bdb3-03bd452889fa",
   "metadata": {},
   "source": [
    "# Q1. Which keyword is used to create a function? Create a function to return a list of odd numbers in the range of 1 to 25."
   ]
  },
  {
   "cell_type": "code",
   "execution_count": 3,
   "id": "0cdf1039-b64a-47a4-8ecd-31343a1bf340",
   "metadata": {},
   "outputs": [],
   "source": [
    "# def keyword is used to create a function\n",
    "odd_num_list = []\n",
    "def odd_num() :\n",
    "    for i in range(26) :\n",
    "        if i % 2 != 0 :\n",
    "            odd_num_list.append(i)\n",
    "    return odd_num_list"
   ]
  },
  {
   "cell_type": "code",
   "execution_count": 4,
   "id": "79a016a4-5c08-4ab0-ba80-366465646a99",
   "metadata": {},
   "outputs": [
    {
     "data": {
      "text/plain": [
       "[1, 3, 5, 7, 9, 11, 13, 15, 17, 19, 21, 23, 25]"
      ]
     },
     "execution_count": 4,
     "metadata": {},
     "output_type": "execute_result"
    }
   ],
   "source": [
    "odd_num()"
   ]
  },
  {
   "cell_type": "markdown",
   "id": "84b73367-a9ea-41c2-91b1-1137c0e5ac90",
   "metadata": {},
   "source": [
    "# Q2. Why *args and **kwargs is used in some functions? Create a function each for *args and **kwargs to demonstrate their use."
   ]
  },
  {
   "cell_type": "markdown",
   "id": "65dbf147-a474-4e3a-a397-c947e34a218a",
   "metadata": {},
   "source": [
    "# The special syntax *args in function definitions in Python is used to pass a variable number of arguments to a function. \n",
    "# It is used to pass a non-keyworded, variable-length argument list. \n",
    "# The syntax is to use the symbol * to take in a variable number of arguments; by convention, it is often used with the word args.\n",
    "\n",
    "# The special syntax **kwargs in function definitions in Python is used to pass a keyworded, variable-length argument list. \n",
    "# We use the name kwargs with the double star. The reason is that the double star allows us to pass through keyword arguments (and any number of them).\n",
    "# A keyword argument is where you provide a name to the variable as you pass it into the function."
   ]
  },
  {
   "cell_type": "code",
   "execution_count": 7,
   "id": "25acb67f-d2b2-4913-8b74-52cd7dce93d8",
   "metadata": {},
   "outputs": [],
   "source": [
    "def test(*args):\n",
    "    return args"
   ]
  },
  {
   "cell_type": "code",
   "execution_count": 8,
   "id": "ac1c0ac2-f9db-4e3a-9116-4d6d8dd2cbde",
   "metadata": {},
   "outputs": [
    {
     "data": {
      "text/plain": [
       "('princy', 'patel', 'pwskills', 1, 2, 3, 88)"
      ]
     },
     "execution_count": 8,
     "metadata": {},
     "output_type": "execute_result"
    }
   ],
   "source": [
    "test(\"princy\",'patel','pwskills',1,2,3,88)"
   ]
  },
  {
   "cell_type": "code",
   "execution_count": 9,
   "id": "812f8507-49fc-4084-87f1-2baa41fcd4d1",
   "metadata": {},
   "outputs": [],
   "source": [
    "def test1(**kwargs):\n",
    "    return kwargs"
   ]
  },
  {
   "cell_type": "code",
   "execution_count": 10,
   "id": "d30115fa-7508-406c-8900-faf5ceaa8bfa",
   "metadata": {},
   "outputs": [
    {
     "data": {
      "text/plain": [
       "{'name': 'Princy', 'course': 'Data Science', 'platform': 'Pwskills'}"
      ]
     },
     "execution_count": 10,
     "metadata": {},
     "output_type": "execute_result"
    }
   ],
   "source": [
    "test1(name ='Princy' , course ='Data Science' , platform ='Pwskills')"
   ]
  },
  {
   "cell_type": "markdown",
   "id": "bcba8612-c6ba-4fd5-b515-98aa77b7144f",
   "metadata": {},
   "source": [
    "# Q3.  What is an iterator in python? Name the method used to initialise the iterator object and the method  used for iteration. \n",
    "# Use these methods to print the first five elements of the given list [2, 4, 6, 8, 10, 12, 14, 16, 18, 20]."
   ]
  },
  {
   "cell_type": "markdown",
   "id": "fb81cf1a-ea3e-454c-bf71-91721eb1d5a1",
   "metadata": {},
   "source": [
    "# An iterator in Python is an object that is used to iterate over iterable objects like lists, tuples, dicts, and sets. \n",
    "# The Python iterators object is initialized using the iter() method. It uses the next() method for iteration.\n",
    "\n",
    "# __iter__(): The iter() method is called for the initialization of an iterator. This returns an iterator object\n",
    "# __next__(): The next method returns the next value for the iterable. \n",
    "#            When we use a for loop to traverse any iterable object, internally it uses the iter() method to get an iterator object, \n",
    "#            which further uses the next() method to iterate over. This method raises a StopIteration to signal the end of the iteration."
   ]
  },
  {
   "cell_type": "code",
   "execution_count": 14,
   "id": "727521c9-0681-46e9-8bee-2ee12d9ee917",
   "metadata": {},
   "outputs": [],
   "source": [
    "l = [2, 4, 6, 8, 10, 12, 14, 16, 18, 20]"
   ]
  },
  {
   "cell_type": "code",
   "execution_count": 15,
   "id": "afb74aa3-5c4e-4a67-bc0f-d8e18360a125",
   "metadata": {},
   "outputs": [],
   "source": [
    "l1=iter(l)"
   ]
  },
  {
   "cell_type": "code",
   "execution_count": 16,
   "id": "a9664834-6112-430b-9141-ef1c0e337866",
   "metadata": {},
   "outputs": [
    {
     "name": "stdout",
     "output_type": "stream",
     "text": [
      "2\n"
     ]
    }
   ],
   "source": [
    "print(next(l1))"
   ]
  },
  {
   "cell_type": "code",
   "execution_count": 17,
   "id": "9b6e87dd-8355-4e1a-810b-fcc40d06a8ce",
   "metadata": {},
   "outputs": [
    {
     "name": "stdout",
     "output_type": "stream",
     "text": [
      "4\n"
     ]
    }
   ],
   "source": [
    " print(next(l1))"
   ]
  },
  {
   "cell_type": "code",
   "execution_count": 18,
   "id": "43449a25-4d27-4d70-8feb-f85e7175f87f",
   "metadata": {},
   "outputs": [
    {
     "name": "stdout",
     "output_type": "stream",
     "text": [
      "6\n"
     ]
    }
   ],
   "source": [
    " print(next(l1))"
   ]
  },
  {
   "cell_type": "code",
   "execution_count": 19,
   "id": "0a5fca6e-f620-4ff5-9e39-26e509f8a890",
   "metadata": {},
   "outputs": [
    {
     "name": "stdout",
     "output_type": "stream",
     "text": [
      "8\n"
     ]
    }
   ],
   "source": [
    " print(next(l1))"
   ]
  },
  {
   "cell_type": "code",
   "execution_count": 20,
   "id": "5040c31f-27fd-412b-ba63-54d5d197ff73",
   "metadata": {},
   "outputs": [
    {
     "name": "stdout",
     "output_type": "stream",
     "text": [
      "10\n"
     ]
    }
   ],
   "source": [
    " print(next(l1))"
   ]
  },
  {
   "cell_type": "markdown",
   "id": "d0225a36-0da0-4f59-8c7c-aa645a3adb3e",
   "metadata": {},
   "source": [
    "# Q4. What is a generator function in python? Why yield keyword is used? Give an example of a generator function."
   ]
  },
  {
   "cell_type": "markdown",
   "id": "6dccd796-ecd5-4851-938a-6477d29d6ab7",
   "metadata": {},
   "source": [
    "# In Python, a generator function is a special type of function that generates an iterator object. \n",
    "# It uses the yield keyword instead of return to produce a series of values one at a time, rather than returning a single value like a regular function. \n",
    "# Each time the yield keyword is encountered, the function's state is saved, and the yielded value is returned.\n",
    "\n",
    "# The yield keyword is used in generator functions to define the points at which the function should yield its current value. \n",
    "# It allows the function to \"pause\" and remember its internal state, so it can resume execution and produce the next value when requested. \n",
    "# This lazy evaluation of values is what makes generators memory-efficient and allows them to handle large or infinite sequences of values."
   ]
  },
  {
   "cell_type": "code",
   "execution_count": 23,
   "id": "1d019260-391f-4f4e-b994-e5f0f7a76cf3",
   "metadata": {},
   "outputs": [
    {
     "name": "stdout",
     "output_type": "stream",
     "text": [
      "0\n",
      "2\n",
      "4\n",
      "6\n",
      "8\n"
     ]
    }
   ],
   "source": [
    "def even_numbers(n):\n",
    "    for i in range(n):\n",
    "        if i % 2 == 0:\n",
    "            yield i\n",
    "even_gen = even_numbers(10)\n",
    "\n",
    "for num in even_gen:\n",
    "    print(num)"
   ]
  },
  {
   "cell_type": "markdown",
   "id": "756ec88e-0c5f-48a4-bea5-9d8e2874bdd2",
   "metadata": {},
   "source": [
    "# Q5. Create a generator function for prime numbers less than 1000. Use the next() method to print the first 20 prime numbers. "
   ]
  },
  {
   "cell_type": "code",
   "execution_count": 8,
   "id": "d8d7c963-9a87-4c1a-8ee5-7fb3efa8472b",
   "metadata": {},
   "outputs": [
    {
     "name": "stdin",
     "output_type": "stream",
     "text": [
      "Input the number of prime numbers you want to generate?  20\n"
     ]
    },
    {
     "name": "stdout",
     "output_type": "stream",
     "text": [
      "First 20 Prime numbers:\n",
      "2\n",
      "3\n",
      "5\n",
      "7\n",
      "11\n",
      "13\n",
      "17\n",
      "19\n",
      "23\n",
      "29\n",
      "31\n",
      "37\n",
      "41\n",
      "43\n",
      "47\n",
      "53\n",
      "59\n",
      "61\n",
      "67\n",
      "71\n"
     ]
    }
   ],
   "source": [
    "def prime(n):\n",
    "    for i in range(2, int(n**0.5) +1):\n",
    "        if n % i == 0:\n",
    "            return False\n",
    "    return True\n",
    "\n",
    "def prime_nums_generator():\n",
    "    n = 2\n",
    "    while True:\n",
    "        if prime(n):\n",
    "            yield n\n",
    "        n += 1\n",
    "\n",
    "primes = prime_nums_generator()\n",
    "\n",
    "n = int(input(\"Input the number of prime numbers you want to generate? \"))\n",
    "\n",
    "print(\"First\",n,\"Prime numbers:\")\n",
    "for _ in range(n):\n",
    "    print(next(primes))"
   ]
  },
  {
   "cell_type": "markdown",
   "id": "dc64b298-c277-4679-a09b-af818283295f",
   "metadata": {},
   "source": [
    "# Q6. Write a python program to print the first 10 Fibonacci numbers using a while loop."
   ]
  },
  {
   "cell_type": "code",
   "execution_count": 5,
   "id": "b69a7ded-accd-46df-ac8a-c426a079fbef",
   "metadata": {},
   "outputs": [],
   "source": [
    "def fibonacci(n):\n",
    "    a,b = 0,1\n",
    "    for i in range(n):\n",
    "        yield a\n",
    "        a,b = b,a+b"
   ]
  },
  {
   "cell_type": "code",
   "execution_count": 7,
   "id": "de3904df-6afb-4a6a-8e05-ebde5cf3a49b",
   "metadata": {},
   "outputs": [
    {
     "name": "stdout",
     "output_type": "stream",
     "text": [
      "0\n",
      "1\n",
      "1\n",
      "2\n",
      "3\n",
      "5\n",
      "8\n",
      "13\n",
      "21\n",
      "34\n"
     ]
    }
   ],
   "source": [
    "for i in fibonacci(10):\n",
    "    print(i)"
   ]
  },
  {
   "cell_type": "markdown",
   "id": "04df9118-c215-4ae3-9b7b-d597da9f27e0",
   "metadata": {},
   "source": [
    "# Q7.Write a List Comprehension to iterate through the given string: ‘pwskills’. Expected output: ['p', 'w', 's', 'k', 'i', 'l', 'l', 's']"
   ]
  },
  {
   "cell_type": "code",
   "execution_count": 8,
   "id": "6e3d90c0-743c-45b5-8570-0255e72124d1",
   "metadata": {},
   "outputs": [],
   "source": [
    "str=\"pwskills\""
   ]
  },
  {
   "cell_type": "code",
   "execution_count": 9,
   "id": "edc21569-e49f-49e9-8fae-238e154094fa",
   "metadata": {},
   "outputs": [
    {
     "data": {
      "text/plain": [
       "['p', 'w', 's', 'k', 'i', 'l', 'l', 's']"
      ]
     },
     "execution_count": 9,
     "metadata": {},
     "output_type": "execute_result"
    }
   ],
   "source": [
    "list(str)"
   ]
  },
  {
   "cell_type": "markdown",
   "id": "e3fcb767-14fa-4eee-b6fa-d5b29fffbe43",
   "metadata": {},
   "source": [
    "# Q8. Write a python program to check whether a given number is Palindrome or not using a while loop. "
   ]
  },
  {
   "cell_type": "code",
   "execution_count": 28,
   "id": "65e395ca-b0ce-4eb7-9d60-af9fe07511b8",
   "metadata": {},
   "outputs": [
    {
     "name": "stdin",
     "output_type": "stream",
     "text": [
      " 121\n"
     ]
    },
    {
     "name": "stdout",
     "output_type": "stream",
     "text": [
      "Palindrome number\n"
     ]
    }
   ],
   "source": [
    "num=int(input())\n",
    "num_temp = num\n",
    "reverse = 0\n",
    "while(num_temp != 0) :\n",
    "    last_digit = num_temp % 10\n",
    "    reverse = (reverse*10) + last_digit\n",
    "    num_temp = num_temp // 10\n",
    "if(num == reverse) :\n",
    "    print(\"Palindrome number\")\n",
    "else:\n",
    "    print(\"Not a Palindrome number\")\n"
   ]
  },
  {
   "cell_type": "markdown",
   "id": "370c486c-4c85-4a65-a18a-1749bf3c4d21",
   "metadata": {},
   "source": [
    "# Q9. Write a code to print odd numbers from 1 to 100 using list comprehension."
   ]
  },
  {
   "cell_type": "code",
   "execution_count": 40,
   "id": "d992813c-bea6-48ae-ad58-cae1b417b4d3",
   "metadata": {},
   "outputs": [
    {
     "name": "stdout",
     "output_type": "stream",
     "text": [
      "[0, 1, 2, 3, 4, 5, 6, 7, 8, 9, 10, 11, 12, 13, 14, 15, 16, 17, 18, 19, 20, 21, 22, 23, 24, 25, 26, 27, 28, 29, 30, 31, 32, 33, 34, 35, 36, 37, 38, 39, 40, 41, 42, 43, 44, 45, 46, 47, 48, 49, 50, 51, 52, 53, 54, 55, 56, 57, 58, 59, 60, 61, 62, 63, 64, 65, 66, 67, 68, 69, 70, 71, 72, 73, 74, 75, 76, 77, 78, 79, 80, 81, 82, 83, 84, 85, 86, 87, 88, 89, 90, 91, 92, 93, 94, 95, 96, 97, 98, 99, 100]\n"
     ]
    }
   ],
   "source": [
    "l1=[]\n",
    "for i in range(101):\n",
    "    l1.append(i)\n",
    "print(l1)"
   ]
  },
  {
   "cell_type": "code",
   "execution_count": 44,
   "id": "b8fd1588-d3f1-4a08-84b0-77f3ea489366",
   "metadata": {},
   "outputs": [
    {
     "data": {
      "text/plain": [
       "[1,\n",
       " 3,\n",
       " 5,\n",
       " 7,\n",
       " 9,\n",
       " 11,\n",
       " 13,\n",
       " 15,\n",
       " 17,\n",
       " 19,\n",
       " 21,\n",
       " 23,\n",
       " 25,\n",
       " 27,\n",
       " 29,\n",
       " 31,\n",
       " 33,\n",
       " 35,\n",
       " 37,\n",
       " 39,\n",
       " 41,\n",
       " 43,\n",
       " 45,\n",
       " 47,\n",
       " 49,\n",
       " 51,\n",
       " 53,\n",
       " 55,\n",
       " 57,\n",
       " 59,\n",
       " 61,\n",
       " 63,\n",
       " 65,\n",
       " 67,\n",
       " 69,\n",
       " 71,\n",
       " 73,\n",
       " 75,\n",
       " 77,\n",
       " 79,\n",
       " 81,\n",
       " 83,\n",
       " 85,\n",
       " 87,\n",
       " 89,\n",
       " 91,\n",
       " 93,\n",
       " 95,\n",
       " 97,\n",
       " 99]"
      ]
     },
     "execution_count": 44,
     "metadata": {},
     "output_type": "execute_result"
    }
   ],
   "source": [
    "list(filter(lambda x : x % 2 != 0 , l1))"
   ]
  },
  {
   "cell_type": "code",
   "execution_count": null,
   "id": "18691c6a-29f2-45c8-96f8-30ec7181ebcd",
   "metadata": {},
   "outputs": [],
   "source": []
  }
 ],
 "metadata": {
  "kernelspec": {
   "display_name": "Python 3 (ipykernel)",
   "language": "python",
   "name": "python3"
  },
  "language_info": {
   "codemirror_mode": {
    "name": "ipython",
    "version": 3
   },
   "file_extension": ".py",
   "mimetype": "text/x-python",
   "name": "python",
   "nbconvert_exporter": "python",
   "pygments_lexer": "ipython3",
   "version": "3.10.8"
  }
 },
 "nbformat": 4,
 "nbformat_minor": 5
}
